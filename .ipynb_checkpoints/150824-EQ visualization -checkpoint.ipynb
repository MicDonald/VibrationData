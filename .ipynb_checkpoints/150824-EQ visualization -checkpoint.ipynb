{
 "cells": [
  {
   "cell_type": "markdown",
   "metadata": {},
   "source": [
    "##__<div style=\"text-align: center;\">Vibration Data Analyze utilizing Apache Spark</div>__\n",
    "####<div style=\"text-align: center;\">_Steven Tsuang, Research Assistant, National Taiwan University._</div>\n",
    "####This program is writen for conducting vibration.  The program featuring Apache Spark, a innovative distributing computer platform.\n",
    "\n",
    "###__Introduction__\n",
    "This is a case study of vibration condition in a hi-tech factory. It is 20-year 10-story-high moment frame structure located in Hsinchu science park (_figure 1_), Tawan. To analysis the vibration serviceability of the structure, a series of sensors was deployed in the 5<sup>th</sup> and the 9<sup>th</sup> and the basement.  \n",
    "Uning these data, we will go though a series of structure analyze to discover the pattern of vibration condition. A abridge demo version of the analyze is also offered considering the \n",
    "\n",
    "###__Step 1 Importing data from CSV files__"
   ]
  },
  {
   "cell_type": "code",
   "execution_count": 51,
   "metadata": {
    "collapsed": true
   },
   "outputs": [],
   "source": [
    "import pandas as pd\n",
    "import numpy as np\n",
    "import os\n",
    "import matplotlib.pyplot as plt\n",
    "from pylab import *\n",
    "import scipy\n",
    "import scipy.fftpack\n",
    "import pylab\n",
    "from scipy import pi"
   ]
  },
  {
   "cell_type": "markdown",
   "metadata": {},
   "source": [
    "The following code opens an open-file dialog, where user could locate the raw CSV files.  "
   ]
  },
  {
   "cell_type": "code",
   "execution_count": 52,
   "metadata": {
    "collapsed": false
   },
   "outputs": [
    {
     "name": "stdout",
     "output_type": "stream",
     "text": [
      "/Volumes/Untitled 1\n"
     ]
    },
    {
     "data": {
      "text/plain": [
       "'There are 6523 files in the directory'"
      ]
     },
     "execution_count": 52,
     "metadata": {},
     "output_type": "execute_result"
    }
   ],
   "source": [
    "from easygui import diropenbox # To install easygui, please run \"pip install eazygui\" in the terminal\n",
    "from os import listdir\n",
    "from re import search\n",
    "\n",
    "def locateInputCsv(filePath=''):\n",
    "    if filePath == '':\n",
    "        filePath = diropenbox() # The dialog may be blocked by the browser.\n",
    "        print filePath\n",
    "    pattern=\"(\\d+)-(\\d+)-(\\d+)-(\\d+)-(\\d+)-(\\d+)_\\d+.csv\"\n",
    "    fileList=[f for f in listdir(filePath)]# if search(pattern,f)]\n",
    "    return filePath,fileList\n",
    "\n",
    "filePath,fileList=locateInputCsv()\n",
    "\"There are {0} files in the directory\".format(str(len(fileList)))"
   ]
  },
  {
   "cell_type": "code",
   "execution_count": 60,
   "metadata": {
    "collapsed": false
   },
   "outputs": [
    {
     "name": "stdout",
     "output_type": "stream",
     "text": [
      "131072\n"
     ]
    },
    {
     "data": {
      "text/html": [
       "<div style=\"max-height:1000px;max-width:1500px;overflow:auto;\">\n",
       "<table border=\"1\" class=\"dataframe\">\n",
       "  <thead>\n",
       "    <tr style=\"text-align: right;\">\n",
       "      <th></th>\n",
       "      <th>Channel 1</th>\n",
       "      <th> Channel 2</th>\n",
       "      <th> Channel 3</th>\n",
       "      <th> Channel 4</th>\n",
       "      <th> Channel 5</th>\n",
       "      <th> Channel 6</th>\n",
       "      <th> Channel 7</th>\n",
       "      <th> Channel 8</th>\n",
       "      <th> </th>\n",
       "    </tr>\n",
       "  </thead>\n",
       "  <tbody>\n",
       "    <tr>\n",
       "      <th>0</th>\n",
       "      <td>-0.003027</td>\n",
       "      <td>-0.003331</td>\n",
       "      <td> 0.001228</td>\n",
       "      <td> 0.000211</td>\n",
       "      <td>-0.010568</td>\n",
       "      <td> 0.000053</td>\n",
       "      <td> 0.001761</td>\n",
       "      <td>-0.001294</td>\n",
       "      <td>  </td>\n",
       "    </tr>\n",
       "    <tr>\n",
       "      <th>1</th>\n",
       "      <td>-0.003039</td>\n",
       "      <td>-0.003328</td>\n",
       "      <td> 0.001207</td>\n",
       "      <td> 0.000214</td>\n",
       "      <td>-0.010568</td>\n",
       "      <td> 0.000063</td>\n",
       "      <td> 0.001779</td>\n",
       "      <td>-0.001311</td>\n",
       "      <td>  </td>\n",
       "    </tr>\n",
       "    <tr>\n",
       "      <th>2</th>\n",
       "      <td>-0.003047</td>\n",
       "      <td>-0.003326</td>\n",
       "      <td> 0.001215</td>\n",
       "      <td> 0.000226</td>\n",
       "      <td>-0.010580</td>\n",
       "      <td> 0.000116</td>\n",
       "      <td> 0.001767</td>\n",
       "      <td>-0.001278</td>\n",
       "      <td>  </td>\n",
       "    </tr>\n",
       "    <tr>\n",
       "      <th>3</th>\n",
       "      <td>-0.003036</td>\n",
       "      <td>-0.003334</td>\n",
       "      <td> 0.001202</td>\n",
       "      <td> 0.000201</td>\n",
       "      <td>-0.010590</td>\n",
       "      <td> 0.000115</td>\n",
       "      <td> 0.001737</td>\n",
       "      <td>-0.001282</td>\n",
       "      <td>  </td>\n",
       "    </tr>\n",
       "    <tr>\n",
       "      <th>4</th>\n",
       "      <td>-0.003044</td>\n",
       "      <td>-0.003321</td>\n",
       "      <td> 0.001202</td>\n",
       "      <td> 0.000232</td>\n",
       "      <td>-0.010556</td>\n",
       "      <td> 0.000126</td>\n",
       "      <td> 0.001770</td>\n",
       "      <td>-0.001298</td>\n",
       "      <td>  </td>\n",
       "    </tr>\n",
       "    <tr>\n",
       "      <th>5</th>\n",
       "      <td>-0.003046</td>\n",
       "      <td>-0.003339</td>\n",
       "      <td> 0.001232</td>\n",
       "      <td> 0.000266</td>\n",
       "      <td>-0.010550</td>\n",
       "      <td> 0.000126</td>\n",
       "      <td> 0.001825</td>\n",
       "      <td>-0.001279</td>\n",
       "      <td>  </td>\n",
       "    </tr>\n",
       "    <tr>\n",
       "      <th>6</th>\n",
       "      <td>-0.003041</td>\n",
       "      <td>-0.003340</td>\n",
       "      <td> 0.001205</td>\n",
       "      <td> 0.000244</td>\n",
       "      <td>-0.010620</td>\n",
       "      <td> 0.000071</td>\n",
       "      <td> 0.001737</td>\n",
       "      <td>-0.001291</td>\n",
       "      <td>  </td>\n",
       "    </tr>\n",
       "    <tr>\n",
       "      <th>7</th>\n",
       "      <td>-0.003036</td>\n",
       "      <td>-0.003313</td>\n",
       "      <td> 0.001214</td>\n",
       "      <td> 0.000299</td>\n",
       "      <td>-0.010577</td>\n",
       "      <td> 0.000095</td>\n",
       "      <td> 0.001782</td>\n",
       "      <td>-0.001272</td>\n",
       "      <td>  </td>\n",
       "    </tr>\n",
       "    <tr>\n",
       "      <th>8</th>\n",
       "      <td>-0.003048</td>\n",
       "      <td>-0.003349</td>\n",
       "      <td> 0.001213</td>\n",
       "      <td> 0.000272</td>\n",
       "      <td>-0.010559</td>\n",
       "      <td> 0.000065</td>\n",
       "      <td> 0.001791</td>\n",
       "      <td>-0.001279</td>\n",
       "      <td>  </td>\n",
       "    </tr>\n",
       "    <tr>\n",
       "      <th>9</th>\n",
       "      <td>-0.003041</td>\n",
       "      <td>-0.003328</td>\n",
       "      <td> 0.001212</td>\n",
       "      <td> 0.000244</td>\n",
       "      <td>-0.010583</td>\n",
       "      <td> 0.000068</td>\n",
       "      <td> 0.001743</td>\n",
       "      <td>-0.001318</td>\n",
       "      <td>  </td>\n",
       "    </tr>\n",
       "  </tbody>\n",
       "</table>\n",
       "</div>"
      ],
      "text/plain": [
       "   Channel 1   Channel 2   Channel 3   Channel 4   Channel 5   Channel 6  \\\n",
       "0  -0.003027   -0.003331    0.001228    0.000211   -0.010568    0.000053   \n",
       "1  -0.003039   -0.003328    0.001207    0.000214   -0.010568    0.000063   \n",
       "2  -0.003047   -0.003326    0.001215    0.000226   -0.010580    0.000116   \n",
       "3  -0.003036   -0.003334    0.001202    0.000201   -0.010590    0.000115   \n",
       "4  -0.003044   -0.003321    0.001202    0.000232   -0.010556    0.000126   \n",
       "5  -0.003046   -0.003339    0.001232    0.000266   -0.010550    0.000126   \n",
       "6  -0.003041   -0.003340    0.001205    0.000244   -0.010620    0.000071   \n",
       "7  -0.003036   -0.003313    0.001214    0.000299   -0.010577    0.000095   \n",
       "8  -0.003048   -0.003349    0.001213    0.000272   -0.010559    0.000065   \n",
       "9  -0.003041   -0.003328    0.001212    0.000244   -0.010583    0.000068   \n",
       "\n",
       "    Channel 7   Channel 8     \n",
       "0    0.001761   -0.001294     \n",
       "1    0.001779   -0.001311     \n",
       "2    0.001767   -0.001278     \n",
       "3    0.001737   -0.001282     \n",
       "4    0.001770   -0.001298     \n",
       "5    0.001825   -0.001279     \n",
       "6    0.001737   -0.001291     \n",
       "7    0.001782   -0.001272     \n",
       "8    0.001791   -0.001279     \n",
       "9    0.001743   -0.001318     "
      ]
     },
     "execution_count": 60,
     "metadata": {},
     "output_type": "execute_result"
    }
   ],
   "source": [
    "from os import path #please keep a habit that import only needed modules rather than the whole package! \n",
    "import pandas as pd\n",
    "import numpy as np\n",
    "\n",
    "def importCsvRawData(filePath, fileName, channelOfInterest=' Channel 4'):\n",
    "    csvFileDir=path.join(filePath,fileName)\n",
    "    df = pd.read_csv(csvFileDir)                           # Open a Pandas data frame\n",
    "    timeSeries=np.array(df[channelOfInterest],dtype='float')  # Float percision will suffice. (Double=2Float)\n",
    "    timeSeries-=timeSeries.mean()\n",
    "    return timeSeries,df \n",
    "\n",
    "filePath = filePath\n",
    "fileName = fileList[1]\n",
    "\n",
    "f9xm,df=importCsvRawData(filePath, fileName)\n",
    "t= np.linspace(1,655.36,131072)\n",
    "\n",
    "print f9xm.size\n",
    "df.head(10)# Print the first 10 entries"
   ]
  },
  {
   "cell_type": "markdown",
   "metadata": {},
   "source": [
    "For Future applications, let's define a sub-routine to plot any seismic time-series data.\n",
    "The herebelow program returns a matplotlib.pyplot.figure.axes object, which features a format ready for use. By calling one of the object's function plot, it will plot the diagram. detail configureing on the plot could also be fine-tuned by mutating object'd parameters. Also, such object could be also stored in a list for iteration. "
   ]
  },
  {
   "cell_type": "code",
   "execution_count": 74,
   "metadata": {
    "collapsed": false
   },
   "outputs": [
    {
     "name": "stdout",
     "output_type": "stream",
     "text": [
      "131072\n"
     ]
    },
    {
     "data": {
      "image/png": "[encoded data removed]",
      "text/plain": [
       "<matplotlib.figure.Figure at 0x1203f9950>"
      ]
     },
     "metadata": {},
     "output_type": "display_data"
    }
   ],
   "source": [
    "%matplotlib inline\n",
    "import matplotlib.pyplot as plt\n",
    "from matplotlib import rcParams\n",
    "\n",
    "def plotTimeSeries(timeSeries=1,\n",
    "                   figSize=(16,4),\n",
    "                   dpi=200,\n",
    "                   fileType = 'pdf',\n",
    "                   storePath = ''):\n",
    "    #Using STIX Font (which similar to Times New Roman)\n",
    "    rcParams.update({'font.size': 14, 'font.family': 'STIXGeneral', 'mathtext.fontset': 'stix'})\n",
    "    fig = plt.figure(figsize=figSize, dpi=dpi)\n",
    "    axes = fig.add_axes([0.1, 0.15, 0.80, 0.75])\n",
    "\n",
    "    #Set Title and Axis Labels\n",
    "    axes.set_xlabel('Time (s)')\n",
    "    axes.set_ylabel('Velocity (m/s)')\n",
    "    axes.set_title('Raw Vibration Data')\n",
    "\n",
    "    #Set Y-Axis Ticker Scientific Annotation \n",
    "    from matplotlib import ticker\n",
    "    formatter = ticker.ScalarFormatter(useMathText=True)\n",
    "    formatter.set_scientific(True)\n",
    "    formatter.set_powerlimits((-1,1))\n",
    "    axes.yaxis.set_major_formatter(formatter)\n",
    "    axes.tick_params(axis='x')\n",
    "    axes.tick_params(axis='y')\n",
    "\n",
    "    #Set Grid Line\n",
    "    axes.grid(color='#A4A4A4',alpha=1,linestyle='dashed',linewidth=0.5)\n",
    "    #axes.plot(t,f9xm,'r',label=\"Measured 9F\")# Notice that Latex math sign are fully supported!\n",
    "    return axes\n",
    "\n",
    "#ax=plotTimeSeries(f9xm)\n",
    "print f9xm.size\n",
    "plotList=[]\n",
    "plotList.append(plotTimeSeries().plot(f9xm,'r'))"
   ]
  },
  {
   "cell_type": "markdown",
   "metadata": {},
   "source": [
    "####For reference:\n",
    "Given a stationary velocity signal $\\dot{x}(t)$ and corresponding frequency $\\dot{X}(f)$. Its auto correlation function $R_{\\dot{X}\\dot{X}}$ is the expect value of the product of $\\dot{X}(f)$ and $\\dot{X}(f+\\tau)$.\n",
    "While its root-mean-square (RMS) value is the auto correlation function at $\\tau=0$.\n",
    "\n",
    "\\begin{equation}\n",
    "\\sigma_{\\dot{X}\\dot{X}}^2=R_{\\dot{X}\\dot{X}}(0)=E[\\dot{X}^2(f)]=\\int_{-\\infty}^{\\infty}S_{\\dot{X}\\dot{X}}\\,\\mathrm{d}f\n",
    "%S_{\\dot{X}\\dot{X}}(f)=E[\\lim_{T\\rightarrow\\infty}\\frac{|\\dot{X}(f)|^2}{T}]\n",
    "\\end{equation}\n",
    "\n",
    "Auto-spectral density function $S_{\\dot{X}\\dot{X}}$ are Symmetric to $f=0$, while $f \\in (-\\infty,\\infty) $; The negative value are therefore folded to the positive value which become the one-sided auto spectral density function $G_{\\dot{X}\\dot{X}}(f)=2S_{\\dot{X}\\dot{X}}(f)$, where$f\\in (0,\\infty) $. Discrete In situ time domain data are transformed to frequency domain via discrete Fourier transform.\n",
    "\n",
    "\\begin{equation}\n",
    "\\sigma_{\\dot{X}\\dot{X}}^{2}(f_{ic})=2\\int_{f_{il}}^{f_{iu}} S_{\\dot{X}\\dot{X}}(f)\\,\\mathrm{d}f=\\int_{f_{il}}^{f_{iu}} G_{\\dot{X}\\dot{X}}(f)\\,\\mathrm{d}f\\dots(1)\n",
    "\\end{equation}\n",
    "\n",
    "Auto-spectral density function is the expect value of spectrum.\n",
    "\n",
    "\\begin{equation}\n",
    "\\sigma_{\\dot{X}\\dot{X}}(f_{ic})=\\sqrt{\\frac{2}{N^2}\\sum_{k_l}^{k_u}{|X[k]|^2}}\n",
    "\\end{equation}\n",
    "\n",
    "Where $k_u=f_{iu}NT_s$, $k_l=f_{il}NT_s$ is the upper and lower bounding of the corresponding frequency band.\n",
    "$T_s$ is sampling period, L is the number of data segments while N is data length for each segment.\n",
    "After obtaining the Auto-spectral density function.\n",
    "The integration of one-sided auto spectral density function $G_{xx}(f)$ between upper band $f_{iu}$ and lower band $f_{il}$ are the mean square velocity at central frequency $f_{ic}$.\n",
    "Finally, root-mean-square velocity can be obtained by taking the square root of mean square velocity.\n",
    "\n",
    "Another subroutine, fourierSpectrum, was defined to generate Fourier spectrum. It is good for plotting non-stational data like seismic event.\n",
    "\n",
    "notice that the spectrum can also be ploted in Decibel (dB) scale, which is much perferred in modern engineering application.\n",
    "\n"
   ]
  },
  {
   "cell_type": "markdown",
   "metadata": {},
   "source": [
    "However, raw fourier spectrum is too caprice to identify any meaningful iinformation in high frequency range. Therefore, in most ambient vibration analysis, \n",
    "\n",
    "will multipied with a window function. this step can a avoid leaking effect during discrete fourier transformation. But window function will also causes the weight at both end of the data series being underestimated, so the divid into segment which outlap with each other to avoid such error. \n",
    "\n",
    "$S_{\\dot{X},\\dot{X}}(s)=E[\\lim_{T\\to\\infty}\\frac{T}{1}]$"
   ]
  },
  {
   "cell_type": "code",
   "execution_count": 104,
   "metadata": {
    "collapsed": false
   },
   "outputs": [
    {
     "name": "stdout",
     "output_type": "stream",
     "text": [
      "(7, 32768)\n"
     ]
    },
    {
     "data": {
      "text/plain": [
       "[<matplotlib.lines.Line2D at 0x1445bbbd0>]"
      ]
     },
     "execution_count": 104,
     "metadata": {},
     "output_type": "execute_result"
    },
    {
     "data": {
      "image/png": "[encoded data removed]",
      "text/plain": [
       "<matplotlib.figure.Figure at 0x1440d6e50>"
      ]
     },
     "metadata": {},
     "output_type": "display_data"
    },
    {
     "data": {
      "image/png": "[encoded data removed]",
      "text/plain": [
       "<matplotlib.figure.Figure at 0x143e74050>"
      ]
     },
     "metadata": {},
     "output_type": "display_data"
    }
   ],
   "source": [
    "from numpy.fft import fft\n",
    "from scipy.fftpack import fftfreq as fftfreq\n",
    "from numpy import vstack, hstack, absolute, power,mean\n",
    "\n",
    "def spectralDensity(timeSeries,segment=False ,segmentNum=32768,sampleFreq=200,):\n",
    "    if not segment:\n",
    "        half=timeSeries.size/2\n",
    "        SXX=power(absolute(fft(timeSeries)),2)/sampleFreq/timeSeries.size\n",
    "        freqs = fftfreq(timeSeries.size,1.0/sampleFreq)\n",
    "        return vstack((freqs[:half],SXX[:half])).T\n",
    "    half=segmentNum/2\n",
    "    assert timeSeries.size%half==0\n",
    "    nSegment=(timeSeries.size/half)-1\n",
    "    L=timeSeries[:-half].reshape(nSegment,half)\n",
    "    R=timeSeries[half:].reshape(nSegment,half)\n",
    "    segmentedTImeSeries=hstack((L,R))*np.hanning(segmentNum)\n",
    "    print segmentedTImeSeries.shape\n",
    "    SXX=1.5*mean(power(absolute(fft(segmentedTImeSeries)),2),axis=0)/sampleFreq/segmentNum\n",
    "    freqs = fftfreq(segmentNum,1.0/sampleFreq)\n",
    "    return vstack((freqs[:half],SXX[:half])).T\n",
    "\n",
    "def plotFourierSpectrum():\n",
    "    fig = plt.figure(figsize=(16,4), dpi=200)\n",
    "    axes = fig.add_axes([0.1, 0.15, 0.80, 0.75])# Setting left, bottom, width, height (range 0 to 1)\n",
    "    #axes.plot(freqs,20*scipy.log10(F9XM),'r',label=\"Measured 9F\")# Notice that Latex math sign are fully supported!\n",
    "    axes.set_xscale(\"log\")\n",
    "    axes.set_yscale(\"log\")\n",
    "    axes.set_xlim(0.2,80)\n",
    "    axes.set_ylim(1e-8,1e-3)\n",
    "    return axes\n",
    "\n",
    "SXX1=spectralDensity(f9xm)\n",
    "SXX2=spectralDensity(f9xm,segment=True)\n",
    "\n",
    "plotFourierSpectrum().plot(SXX1[:,0],sqrt(2*SXX1[:,1]))\n",
    "plotFourierSpectrum().plot(SXX2[:,0],sqrt(2*SXX2[:,1]))"
   ]
  },
  {
   "cell_type": "markdown",
   "metadata": {},
   "source": [
    "####Define the band width of octave band, the factor of octave are mutable.\n",
    "####As the are "
   ]
  },
  {
   "cell_type": "code",
   "execution_count": 94,
   "metadata": {
    "collapsed": false
   },
   "outputs": [
    {
     "data": {
      "text/plain": [
       "array([[ 0.19430639,  0.2       ,  0.20586045],\n",
       "       [ 0.20586045,  0.21189262,  0.21810155],\n",
       "       [ 0.21810155,  0.22449241,  0.23107054],\n",
       "       [ 0.23107054,  0.23784142,  0.24481071],\n",
       "       [ 0.24481071,  0.25198421,  0.25936791],\n",
       "       [ 0.25936791,  0.26696797,  0.27479073],\n",
       "       [ 0.27479073,  0.28284271,  0.29113064],\n",
       "       [ 0.29113064,  0.29966142,  0.30844217],\n",
       "       [ 0.30844217,  0.31748021,  0.32678309],\n",
       "       [ 0.32678309,  0.33635857,  0.34621462]])"
      ]
     },
     "execution_count": 94,
     "metadata": {},
     "output_type": "execute_result"
    }
   ],
   "source": [
    "from math import log,pow\n",
    "def octaveBandWidth (n=12,upper=100,lower=0.2):\n",
    "    f=np.arange(log(upper/lower,2)*n)\n",
    "    lf=np.vectorize(lambda x: pow(2,(x-0.5)/n)*lower)(f)\n",
    "    cf=np.vectorize(lambda x: pow(2,x/n)*lower)(f)\n",
    "    uf=np.vectorize(lambda x: pow(2,(x+0.5)/n)*lower)(f)\n",
    "    return vstack((lf,cf,uf))\n",
    "\n",
    "octaveBandWidth().T[0:10,:]"
   ]
  },
  {
   "cell_type": "markdown",
   "metadata": {},
   "source": [
    "####And the way~~~ we go !"
   ]
  },
  {
   "cell_type": "code",
   "execution_count": 113,
   "metadata": {
    "collapsed": false
   },
   "outputs": [
    {
     "name": "stdout",
     "output_type": "stream",
     "text": [
      "[[  0.00000000e+00   1.21201762e-12]\n",
      " [  6.10351562e-03   1.77735164e-12]\n",
      " [  1.22070312e-02   7.46663009e-12]\n",
      " ..., \n",
      " [  9.99816895e+01   4.80797870e-14]\n",
      " [  9.99877930e+01   4.22045042e-14]\n",
      " [  9.99938965e+01   6.34611096e-14]]\n",
      "32768\n",
      "32768\n",
      "[[  0.2          0.09276541]\n",
      " [  0.25198421   0.12433807]\n",
      " [  0.31748021   0.15319703]\n",
      " [  0.4          0.19204264]\n",
      " [  0.50396842   0.24237951]\n",
      " [  0.63496042   0.30566367]\n",
      " [  0.8          0.39043422]\n",
      " [  1.00793684   0.48548853]\n",
      " [  1.26992084   0.61205816]\n",
      " [  1.6          0.77454551]\n",
      " [  2.01587368   0.97024783]\n",
      " [  2.53984168   1.23047541]\n",
      " [  3.2          1.54272923]\n",
      " [  4.03174736   1.94686841]\n",
      " [  5.07968337   2.45459997]\n",
      " [  6.4          3.08472791]\n",
      " [  8.06349472   3.89300485]\n",
      " [ 10.15936673   4.90846761]\n",
      " [ 12.8          6.17582593]\n",
      " [ 16.12698944   7.78674171]\n",
      " [ 20.31873347   9.81057503]\n",
      " [ 25.6         12.35801705]\n",
      " [ 32.25397888  15.57421537]\n",
      " [ 40.63746693  19.62188196]\n",
      " [ 51.2         24.71676586]\n",
      " [ 64.50795775  31.14916268]]\n"
     ]
    },
    {
     "data": {
      "image/png": "[encoded data removed]",
      "text/plain": [
       "<matplotlib.figure.Figure at 0x1357d7ed0>"
      ]
     },
     "metadata": {},
     "output_type": "display_data"
    }
   ],
   "source": [
    "def octaveBand (SXX,n,sampleFreq=200):\n",
    "    result=[]\n",
    "    N=2*SXX[:,1].size\n",
    "    Ts=1.0/sampleFreq\n",
    "    print N\n",
    "    for b in octaveBandWidth(n=n,lower=0.2,upper=80).T:\n",
    "        SXXf=filter(lambda (f,m):(f>b[0])&(f<b[2]),SXX)\n",
    "        result.append((b[1],sqrt(sum(SXXf)/(N*Ts))))\n",
    "    return array(result)\n",
    "\n",
    "print SXX2\n",
    "ob12=octaveBand (SXX2,12)\n",
    "ob3=octaveBand (SXX2,3)\n",
    "\n",
    "plotFourierSpectrum().plot(ob3[:,0],ob3[:,1],'r',ob12[:,0],ob12[:,1],'b')\n",
    "print ob3"
   ]
  },
  {
   "cell_type": "markdown",
   "metadata": {},
   "source": [
    "It's onerous to run all hereabove cell before accessing these function.\n",
    "by importing package "
   ]
  },
  {
   "cell_type": "markdown",
   "metadata": {},
   "source": [
    "###1. Run all files"
   ]
  },
  {
   "cell_type": "code",
   "execution_count": null,
   "metadata": {
    "collapsed": true
   },
   "outputs": [],
   "source": []
  },
  {
   "cell_type": "markdown",
   "metadata": {},
   "source": [
    "####Second, let's produce its 1/3 Octave band spectrum. "
   ]
  },
  {
   "cell_type": "code",
   "execution_count": 33,
   "metadata": {
    "collapsed": false
   },
   "outputs": [
    {
     "name": "stdout",
     "output_type": "stream",
     "text": [
      "0.0300075018755 4000\n"
     ]
    },
    {
     "ename": "NameError",
     "evalue": "name 'pylab' is not defined",
     "output_type": "error",
     "traceback": [
      "\u001b[0;31m---------------------------------------------------------------------------\u001b[0m",
      "\u001b[0;31mNameError\u001b[0m                                 Traceback (most recent call last)",
      "\u001b[0;32m<ipython-input-33-326dbc73a56f>\u001b[0m in \u001b[0;36m<module>\u001b[0;34m()\u001b[0m\n\u001b[1;32m     13\u001b[0m \u001b[0;32mprint\u001b[0m  \u001b[0mt\u001b[0m\u001b[0;34m[\u001b[0m\u001b[0;36m1\u001b[0m\u001b[0;34m]\u001b[0m\u001b[0;34m-\u001b[0m\u001b[0mt\u001b[0m\u001b[0;34m[\u001b[0m\u001b[0;36m0\u001b[0m\u001b[0;34m]\u001b[0m\u001b[0;34m,\u001b[0m\u001b[0mt\u001b[0m\u001b[0;34m.\u001b[0m\u001b[0msize\u001b[0m\u001b[0;34m\u001b[0m\u001b[0m\n\u001b[1;32m     14\u001b[0m \u001b[0;34m\u001b[0m\u001b[0m\n\u001b[0;32m---> 15\u001b[0;31m \u001b[0mpylab\u001b[0m\u001b[0;34m.\u001b[0m\u001b[0msubplot\u001b[0m\u001b[0;34m(\u001b[0m\u001b[0;36m211\u001b[0m\u001b[0;34m)\u001b[0m\u001b[0;34m\u001b[0m\u001b[0m\n\u001b[0m\u001b[1;32m     16\u001b[0m \u001b[0mpylab\u001b[0m\u001b[0;34m.\u001b[0m\u001b[0mplot\u001b[0m\u001b[0;34m(\u001b[0m\u001b[0mt\u001b[0m\u001b[0;34m,\u001b[0m \u001b[0msignal\u001b[0m\u001b[0;34m)\u001b[0m\u001b[0;34m\u001b[0m\u001b[0m\n\u001b[1;32m     17\u001b[0m \u001b[0mpylab\u001b[0m\u001b[0;34m.\u001b[0m\u001b[0msubplot\u001b[0m\u001b[0;34m(\u001b[0m\u001b[0;36m212\u001b[0m\u001b[0;34m)\u001b[0m\u001b[0;34m\u001b[0m\u001b[0m\n",
      "\u001b[0;31mNameError\u001b[0m: name 'pylab' is not defined"
     ]
    }
   ],
   "source": [
    "import scipy\n",
    "from scipy import pi\n",
    "from scipy import fftpack\n",
    "\n",
    "t = scipy.linspace(0,120,4000)\n",
    "acc = lambda t: 10*scipy.sin(2*pi*2.0*t) + 5*scipy.sin(2*pi*8.0*t) #+ 2*scipy.random.random(len(t))\n",
    "\n",
    "signal = acc(t)\n",
    "\n",
    "FFT = abs(scipy.fft(signal))/signal.size\n",
    "freqs = scipy.fftpack.fftfreq(signal.size, t[1]-t[0])\n",
    "\n",
    "print  t[1]-t[0],t.size\n",
    "\n",
    "pylab.subplot(211)\n",
    "pylab.plot(t, signal)\n",
    "pylab.subplot(212)\n",
    "pylab.subplot(212).set_ylim(0,20)\n",
    "\n",
    "pylab.plot(freqs,20*scipy.log10(FFT),'x')\n",
    "\n",
    "pylab.show()"
   ]
  },
  {
   "cell_type": "markdown",
   "metadata": {},
   "source": [
    "####EEMD"
   ]
  },
  {
   "cell_type": "code",
   "execution_count": null,
   "metadata": {
    "collapsed": true
   },
   "outputs": [],
   "source": []
  },
  {
   "cell_type": "code",
   "execution_count": null,
   "metadata": {
    "collapsed": true
   },
   "outputs": [],
   "source": [
    "#Extract date time from file name\n",
    "import datetime\n",
    "import re\n",
    "from datetime import timedelta\n",
    "\n",
    "def extractDateTime(filename):\n",
    "    pattern=\"(\\d+)-(\\d+)-(\\d+)-(\\d+)-(\\d+)-(\\d+)_\\d+.csv\"\n",
    "    match = re.search(pattern,filename)\n",
    "    return datetime.datetime(int(match.group(1)),\n",
    "                             int(match.group(2)),\n",
    "                             int(match.group(3)),\n",
    "                             int(match.group(4)),\n",
    "                             int(match.group(5)),\n",
    "                             int(match.group(6)))\n",
    "def extractDataNum(filename):\n",
    "    pattern=\"\\d+-\\d+-\\d+-\\d+-\\d+-\\d+_(\\d+).csv\"\n",
    "    match = re.search(pattern,filename)\n",
    "    return int(match.group(1))\n",
    "\n",
    "def getStartTime(endtime,datanum,samplefreq):\n",
    "    return endtime-timedelta(seconds=datanum/samplefreq)\n",
    "\n",
    "def retriExactTime(filename,targettime):\n",
    "    endtime=extractDateTime(filename)\n",
    "    datanum=extractDataNum(filename)\n",
    "    starttime=getStartTime(endtime,datanum,200)\n",
    "    if (endtime>targettime) & (starttime<targettime):\n",
    "        return True\n",
    "    else: return False\n",
    "\n",
    "endtime=extractDateTime('2015-01-18-11-37-27_131072.csv')\n",
    "datanum=extractDataNum('2015-01-18-11-37-27_131072.csv')\n",
    "starttime=getStartTime(endtime,datanum,200)\n",
    "\n",
    "testTargetTime=datetime.datetime(2015,1,18,11,26,27)\n",
    "print retriExactTime('2015-01-18-11-37-27_131072.csv',testTargetTime)\n",
    "\n",
    "print(starttime,endtime,datanum)\n",
    "\n",
    "try:\n",
    "    print(extractDataNum(\"I'm-a-troll-you-are-a_fool.csv\"))\n",
    "except:\n",
    "    print('YOU SHOULD NOT PASS')\n",
    "    "
   ]
  }
 ],
 "metadata": {
  "kernelspec": {
   "display_name": "Python 2",
   "language": "python",
   "name": "python2"
  },
  "language_info": {
   "codemirror_mode": {
    "name": "ipython",
    "version": 2
   },
   "file_extension": ".py",
   "mimetype": "text/x-python",
   "name": "python",
   "nbconvert_exporter": "python",
   "pygments_lexer": "ipython2",
   "version": "2.7.10"
  }
 },
 "nbformat": 4,
 "nbformat_minor": 0
}
